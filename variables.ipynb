{
 "cells": [
  {
   "cell_type": "code",
   "execution_count": 1,
   "metadata": {},
   "outputs": [
    {
     "name": "stdout",
     "output_type": "stream",
     "text": [
      "age: 23\n",
      "name: Sahil\n",
      "height: 5.9\n"
     ]
    }
   ],
   "source": [
    "## Declaring and assigning variables\n",
    "\n",
    "name= \"Sahil\"\n",
    "age=23\n",
    "height=5.9\n",
    "is_Student = True\n",
    "\n",
    "## Printing the variables\n",
    "\n",
    "print(\"age:\" ,age)\n",
    "print(\"name:\" ,name)\n",
    "print(\"height:\", height)"
   ]
  },
  {
   "cell_type": "code",
   "execution_count": null,
   "metadata": {},
   "outputs": [],
   "source": [
    "##naming convention\n"
   ]
  }
 ],
 "metadata": {
  "kernelspec": {
   "display_name": "Python 3",
   "language": "python",
   "name": "python3"
  },
  "language_info": {
   "codemirror_mode": {
    "name": "ipython",
    "version": 3
   },
   "file_extension": ".py",
   "mimetype": "text/x-python",
   "name": "python",
   "nbconvert_exporter": "python",
   "pygments_lexer": "ipython3",
   "version": "3.12.0"
  }
 },
 "nbformat": 4,
 "nbformat_minor": 2
}
