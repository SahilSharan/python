{
 "cells": [
  {
   "cell_type": "code",
   "execution_count": 1,
   "metadata": {},
   "outputs": [
    {
     "name": "stdout",
     "output_type": "stream",
     "text": [
      "you are eligible to vote\n"
     ]
    }
   ],
   "source": [
    "## if statement\n",
    " \n",
    "age = 20\n",
    "\n",
    "if age>=18:\n",
    "    print(\"you are eligible to vote\")"
   ]
  },
  {
   "cell_type": "code",
   "execution_count": 2,
   "metadata": {},
   "outputs": [
    {
     "name": "stdout",
     "output_type": "stream",
     "text": [
      "you are not eligible\n"
     ]
    }
   ],
   "source": [
    "## else\n",
    "\n",
    "age = 16\n",
    "\n",
    "if age>= 18:\n",
    "    print(\"You are eligible\")\n",
    "else:\n",
    "    print(\"you are not eligible\")"
   ]
  },
  {
   "cell_type": "code",
   "execution_count": 3,
   "metadata": {},
   "outputs": [
    {
     "name": "stdout",
     "output_type": "stream",
     "text": [
      "you are teenager\n"
     ]
    }
   ],
   "source": [
    "##elif\n",
    "## allows us to check multiple conditions\n",
    "\n",
    "age = 17\n",
    "\n",
    "if age<13:\n",
    "    print(\"you are a kid\")\n",
    "elif age<18:\n",
    "    print(\"you are teenager\")\n",
    "else:\n",
    "    print(\"you are adult\")"
   ]
  },
  {
   "cell_type": "code",
   "execution_count": 4,
   "metadata": {},
   "outputs": [
    {
     "name": "stdout",
     "output_type": "stream",
     "text": [
      "The number is positive\n",
      "TYhe number is evem\n"
     ]
    }
   ],
   "source": [
    "## Nested conditional statements\n",
    "\n",
    "## you can put if, elif and else condition in another if , elif and else condition\n",
    "\n",
    "num=int(input(\"Enter a number\"))\n",
    "if num>0:\n",
    "    print(\"The number is positive\")\n",
    "    if num%2 == 0:\n",
    "        print(\"The number is even\")\n",
    "    else:\n",
    "        print(\"TYhe number is evem\")\n",
    "    \n",
    "else:\n",
    "    print(\"The number is negative\")"
   ]
  },
  {
   "cell_type": "code",
   "execution_count": null,
   "metadata": {},
   "outputs": [],
   "source": []
  }
 ],
 "metadata": {
  "kernelspec": {
   "display_name": "Python 3",
   "language": "python",
   "name": "python3"
  },
  "language_info": {
   "codemirror_mode": {
    "name": "ipython",
    "version": 3
   },
   "file_extension": ".py",
   "mimetype": "text/x-python",
   "name": "python",
   "nbconvert_exporter": "python",
   "pygments_lexer": "ipython3",
   "version": "3.12.0"
  }
 },
 "nbformat": 4,
 "nbformat_minor": 2
}
