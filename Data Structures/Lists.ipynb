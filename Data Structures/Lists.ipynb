{
 "cells": [
  {
   "cell_type": "code",
   "execution_count": 1,
   "metadata": {},
   "outputs": [],
   "source": [
    "## Lists are ordered , collection of mutable items"
   ]
  },
  {
   "cell_type": "code",
   "execution_count": 2,
   "metadata": {},
   "outputs": [
    {
     "name": "stdout",
     "output_type": "stream",
     "text": [
      "<class 'list'>\n"
     ]
    }
   ],
   "source": [
    "lst=[]\n",
    "print(type(lst))"
   ]
  },
  {
   "cell_type": "code",
   "execution_count": 3,
   "metadata": {},
   "outputs": [
    {
     "name": "stdout",
     "output_type": "stream",
     "text": [
      "['Sahil', 'Sameer', 'Aakash']\n"
     ]
    }
   ],
   "source": [
    "## lsit of names\n",
    "names = [\"Sahil\", \"Sameer\", \"Aakash\" ]\n",
    "print(names)"
   ]
  },
  {
   "cell_type": "code",
   "execution_count": 4,
   "metadata": {},
   "outputs": [
    {
     "name": "stdout",
     "output_type": "stream",
     "text": [
      "['Apple', 'cherry', 'Mango', 'Guava', 'Dragonfruit']\n"
     ]
    }
   ],
   "source": [
    "fruits=[\"Apple\" , \"cherry\", \"Mango\", \"Guava\", \"Dragonfruit\"]\n",
    "print(fruits)"
   ]
  },
  {
   "cell_type": "code",
   "execution_count": 5,
   "metadata": {},
   "outputs": [
    {
     "name": "stdout",
     "output_type": "stream",
     "text": [
      "['Apple', 'Jamun', 'Mango', 'Guava', 'Dragonfruit']\n"
     ]
    }
   ],
   "source": [
    "##Modifying the lists\n",
    "fruits[1]= \"Jamun\"\n",
    "print(fruits)"
   ]
  },
  {
   "cell_type": "code",
   "execution_count": 7,
   "metadata": {},
   "outputs": [
    {
     "name": "stdout",
     "output_type": "stream",
     "text": [
      "['Apple', 'Jamun', 'Mango', 'Guava', 'Dragonfruit', 'orenge', 'orange']\n"
     ]
    }
   ],
   "source": [
    "##Lists methods\n",
    "\n",
    "fruits.append(\"orange\") ##add the item to the end\n",
    "print(fruits)"
   ]
  },
  {
   "cell_type": "code",
   "execution_count": 8,
   "metadata": {},
   "outputs": [
    {
     "name": "stdout",
     "output_type": "stream",
     "text": [
      "['Apple', 'coconut', 'Jamun', 'Mango', 'Guava', 'Dragonfruit', 'orenge', 'orange']\n"
     ]
    }
   ],
   "source": [
    "fruits.insert(1, \"coconut\")\n",
    "print(fruits)"
   ]
  },
  {
   "cell_type": "code",
   "execution_count": 9,
   "metadata": {},
   "outputs": [
    {
     "name": "stdout",
     "output_type": "stream",
     "text": [
      "['Apple', 'coconut', 'Jamun', 'Mango', 'Guava', 'Dragonfruit', 'orange']\n"
     ]
    }
   ],
   "source": [
    "fruits.remove(\"orenge\")\n",
    "print(fruits)"
   ]
  },
  {
   "cell_type": "code",
   "execution_count": null,
   "metadata": {},
   "outputs": [],
   "source": []
  }
 ],
 "metadata": {
  "kernelspec": {
   "display_name": "Python 3",
   "language": "python",
   "name": "python3"
  },
  "language_info": {
   "codemirror_mode": {
    "name": "ipython",
    "version": 3
   },
   "file_extension": ".py",
   "mimetype": "text/x-python",
   "name": "python",
   "nbconvert_exporter": "python",
   "pygments_lexer": "ipython3",
   "version": "3.12.0"
  }
 },
 "nbformat": 4,
 "nbformat_minor": 2
}
